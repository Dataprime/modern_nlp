{
 "cells": [
  {
   "cell_type": "markdown",
   "metadata": {},
   "source": [
    "# NLP with spaCy"
   ]
  },
  {
   "cell_type": "markdown",
   "metadata": {},
   "source": [
    "## Setting up spaCy\n",
    "1. pip install spacy\n",
    "2. python -m spacy.en.download"
   ]
  },
  {
   "cell_type": "markdown",
   "metadata": {},
   "source": [
    "The second line will download the model data for the english model. This will load the parser, tagger, vocabulary and word vectors."
   ]
  },
  {
   "cell_type": "code",
   "execution_count": 2,
   "metadata": {
    "collapsed": true
   },
   "outputs": [],
   "source": [
    "# import spacy and load english model\n",
    "import spacy\n",
    "\n",
    "nlp = spacy.load('en')"
   ]
  },
  {
   "cell_type": "markdown",
   "metadata": {},
   "source": [
    "## 1. Process Text"
   ]
  },
  {
   "cell_type": "markdown",
   "metadata": {},
   "source": [
    "spaCy does tokenization, sentence recognition, part of speech tagging, lemmatization, dependency parsing, and named entity recognition all at once."
   ]
  },
  {
   "cell_type": "code",
   "execution_count": 5,
   "metadata": {
    "collapsed": false
   },
   "outputs": [],
   "source": [
    "# parse text into Document object\n",
    "doc = nlp(u\"I went to school this morning, but it's Sunday. School is closed! Silly me =)\")"
   ]
  },
  {
   "cell_type": "markdown",
   "metadata": {},
   "source": [
    "Each token is an object with lots of different properties. A property with underscore returns the string representation, while a property without an underscore returns an index (int) into spaCy's vocabulary. These are some of the properties:\n",
    "* orth (original token)\n",
    "* lower\n",
    "* lemma\n",
    "* shape\n",
    "* prefix\n",
    "* suffix\n",
    "* prob (log probability based on counts from a 3 Billion word corpus)\n"
   ]
  },
  {
   "cell_type": "markdown",
   "metadata": {},
   "source": [
    "### Get Tokens"
   ]
  },
  {
   "cell_type": "code",
   "execution_count": 7,
   "metadata": {
    "collapsed": false
   },
   "outputs": [
    {
     "name": "stdout",
     "output_type": "stream",
     "text": [
      "[I, went, to, school, this, morning, ,, but, it, 's, Sunday, ., School, is, closed, !, Silly, me, =)]\n"
     ]
    }
   ],
   "source": [
    "# print all the tokens\n",
    "print [token for token in doc]"
   ]
  },
  {
   "cell_type": "code",
   "execution_count": 9,
   "metadata": {
    "collapsed": false
   },
   "outputs": [
    {
     "name": "stdout",
     "output_type": "stream",
     "text": [
      "Number of tokens: 19\n",
      "First token: I\n",
      "Last token: =)\n",
      "Tokens 2 through 4: went to school\n"
     ]
    }
   ],
   "source": [
    "# another way to do this is indexing the doc\n",
    "print 'Number of tokens: {}'.format(len(doc))\n",
    "print 'First token: {}'.format(doc[0])\n",
    "print 'Last token: {}'.format(doc[-1])\n",
    "print 'Tokens 2 through 4: {}'.format(doc[1:4])"
   ]
  },
  {
   "cell_type": "markdown",
   "metadata": {},
   "source": [
    "### Get Sentences"
   ]
  },
  {
   "cell_type": "code",
   "execution_count": 10,
   "metadata": {
    "collapsed": false
   },
   "outputs": [
    {
     "name": "stdout",
     "output_type": "stream",
     "text": [
      "I went to school this morning, but it's Sunday.\n",
      "School is closed!\n",
      "Silly me =)\n"
     ]
    }
   ],
   "source": [
    "# print all the sentences\n",
    "for sent in doc.sents:\n",
    "    print sent"
   ]
  },
  {
   "cell_type": "markdown",
   "metadata": {},
   "source": [
    "### Remove Stop Words"
   ]
  },
  {
   "cell_type": "code",
   "execution_count": 13,
   "metadata": {
    "collapsed": false
   },
   "outputs": [
    {
     "name": "stdout",
     "output_type": "stream",
     "text": [
      "[I, to, this, but, it, is, me]\n"
     ]
    }
   ],
   "source": [
    "# print all of the stop words in the document\n",
    "print [token for token in doc if token.is_stop]"
   ]
  },
  {
   "cell_type": "code",
   "execution_count": 25,
   "metadata": {
    "collapsed": false
   },
   "outputs": [
    {
     "name": "stdout",
     "output_type": "stream",
     "text": [
      "<type 'spacy.tokens.doc.Doc'>\n"
     ]
    }
   ],
   "source": [
    "print type(doc)"
   ]
  },
  {
   "cell_type": "code",
   "execution_count": null,
   "metadata": {
    "collapsed": false
   },
   "outputs": [],
   "source": [
    "# remove the stop words\n",
    "# doc_1 = [token for token in doc if not token.is_stop]\n",
    "doc_1 = u' '.join(token.orth_ for token in doc if not token.is_stop)\n",
    "print doc_1\n",
    "print doc_1[0].lemma"
   ]
  },
  {
   "cell_type": "markdown",
   "metadata": {},
   "source": [
    "### Remove Punctuation"
   ]
  },
  {
   "cell_type": "code",
   "execution_count": 15,
   "metadata": {
    "collapsed": false
   },
   "outputs": [
    {
     "name": "stdout",
     "output_type": "stream",
     "text": [
      "[,, ., !]\n"
     ]
    }
   ],
   "source": [
    "# print all punctuation in the document\n",
    "print [token for token in doc if token.is_punct]"
   ]
  },
  {
   "cell_type": "markdown",
   "metadata": {},
   "source": [
    "### Lematize"
   ]
  },
  {
   "cell_type": "code",
   "execution_count": 11,
   "metadata": {
    "collapsed": false
   },
   "outputs": [
    {
     "name": "stdout",
     "output_type": "stream",
     "text": [
      "[u'i', u'go', u'to', u'school', u'this', u'morning', u',', u'but', u'it', u\"'\", u'sunday', u'.', u'school', u'be', u'closed', u'!', u'silly', u'me', u'=)']\n"
     ]
    }
   ],
   "source": [
    "lemmas = [token.lemma_ for token in doc]\n",
    "print lemmas"
   ]
  }
 ],
 "metadata": {
  "kernelspec": {
   "display_name": "Python [conda root]",
   "language": "python",
   "name": "conda-root-py"
  },
  "language_info": {
   "codemirror_mode": {
    "name": "ipython",
    "version": 2
   },
   "file_extension": ".py",
   "mimetype": "text/x-python",
   "name": "python",
   "nbconvert_exporter": "python",
   "pygments_lexer": "ipython2",
   "version": "2.7.13"
  }
 },
 "nbformat": 4,
 "nbformat_minor": 2
}
